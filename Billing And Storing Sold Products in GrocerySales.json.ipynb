{
 "cells": [
  {
   "cell_type": "markdown",
   "id": "enhanced-partnership",
   "metadata": {},
   "source": [
    "# DISPLAYING GROCERY PRODUCTS"
   ]
  },
  {
   "cell_type": "code",
   "execution_count": 47,
   "id": "large-notebook",
   "metadata": {},
   "outputs": [],
   "source": [
    "import json\n",
    "fd = open(\"GroceryDatabase.json\",'r')\n",
    "r = fd.read()\n",
    "fd.close()\n",
    "\n",
    "data = json.loads(r)"
   ]
  },
  {
   "cell_type": "code",
   "execution_count": 48,
   "id": "retired-batch",
   "metadata": {},
   "outputs": [
    {
     "data": {
      "text/plain": [
       "{'101': {'PRODUCT NAME': 'Good Day Choco Cookies',\n",
       "  'PRICE': 25,\n",
       "  'QUANTITY': 100,\n",
       "  'DATE OF MANUFACTURE': 'December 2020',\n",
       "  'DATE OF EXPIRY': 'December 2021'},\n",
       " '102': {'PRODUCT NAME': 'Haldiram Aloo Bhujia',\n",
       "  'PRICE': 100,\n",
       "  'QUANTITY': 100,\n",
       "  'DATE OF MANUFACTURE': 'January 2021',\n",
       "  'DATE OF EXPIRY': 'August 2022'},\n",
       " '103': {'PRODUCT NAME': 'Haldiram Sev Bhujia',\n",
       "  'PRICE': 100,\n",
       "  'QUANTITY': 100,\n",
       "  'DATE OF MANUFACTURE': 'January 2021',\n",
       "  'DATE OF EXPIRY': 'August 2022'},\n",
       " '104': {'PRODUCT NAME': 'Bournborn',\n",
       "  'PRICE': 30,\n",
       "  'QUANTITY': 200,\n",
       "  'DATE OF MANUFACTURE': 'August 2019',\n",
       "  'DATE OF EXPIRY': 'December 2021'},\n",
       " '105': {'PRODUCT NAME': 'Dark Fantasy',\n",
       "  'PRICE': 50,\n",
       "  'QUANTITY': 120,\n",
       "  'DATE OF MANUFACTURE': 'December 2020',\n",
       "  'DATE OF EXPIRY': 'December 2021'},\n",
       " '106': {'PRODUCT NAME': 'Maggie',\n",
       "  'PRICE': 24,\n",
       "  'QUANTITY': 300,\n",
       "  'DATE OF MANUFACTURE': 'August 2019',\n",
       "  'DATE OF EXPIRY': 'December 2021'},\n",
       " '107': {'PRODUCT NAME': 'Hakka Noodles',\n",
       "  'PRICE': 50,\n",
       "  'QUANTITY': 300,\n",
       "  'DATE OF MANUFACTURE': 'January 2021',\n",
       "  'DATE OF EXPIRY': 'September 2022'},\n",
       " '108': {'PRODUCT NAME': 'Parle G',\n",
       "  'PRICE': 10,\n",
       "  'QUANTITY': 500,\n",
       "  'DATE OF MANUFACTURE': 'May 2019',\n",
       "  'DATE OF EXPIRY': 'May 2022'},\n",
       " '109': {'PRODUCT NAME': 'Black Salt Packet',\n",
       "  'PRICE': 25,\n",
       "  'QUANTITY': 240,\n",
       "  'DATE OF MANUFACTURE': 'February 2021',\n",
       "  'DATE OF EXPIRY': 'December 2023'},\n",
       " '110': {'PRODUCT NAME': 'Kurkure',\n",
       "  'PRICE': 20,\n",
       "  'QUANTITY': 400,\n",
       "  'DATE OF MANUFACTURE': 'July 2019',\n",
       "  'DATE OF EXPIRY': 'November 2021'},\n",
       " '111': {'PRODUCT NAME': 'Haldiram Papad',\n",
       "  'PRICE': 25,\n",
       "  'QUANTITY': 300,\n",
       "  'DATE OF MANUFACTURE': 'October 2020',\n",
       "  'DATE OF EXPIRY': 'May 2023'},\n",
       " '112': {'PRODUCT NAME': 'Manchow Chinese Soup',\n",
       "  'PRICE': 40,\n",
       "  'QUANTITY': 150,\n",
       "  'DATE OF MANUFACTURE': 'February 2020',\n",
       "  'DATE OF EXPIRY': 'November 2022'},\n",
       " '113': {'PRODUCT NAME': 'Tomato Soup',\n",
       "  'PRICE': 40,\n",
       "  'QUANTITY': 150,\n",
       "  'DATE OF MANUFACTURE': 'June 2020',\n",
       "  'DATE OF EXPIRY': 'October 2022'},\n",
       " '114': {'PRODUCT NAME': 'Tata Salt Packet',\n",
       "  'PRICE': 20,\n",
       "  'QUANTITY': 240,\n",
       "  'DATE OF MANUFACTURE': 'March 2019',\n",
       "  'DATE OF EXPIRY': 'October 2022'},\n",
       " '115': {'PRODUCT NAME': 'Everyday Milk Powder',\n",
       "  'PRICE': 60,\n",
       "  'QUANTITY': 100,\n",
       "  'DATE OF MANUFACTURE': 'December 2020',\n",
       "  'DATE OF EXPIRY': 'December 2021'},\n",
       " '116': {'PRODUCT NAME': 'Kissan Tomato Sauce',\n",
       "  'PRICE': 75,\n",
       "  'QUANTITY': 200,\n",
       "  'DATE OF MANUFACTURE': 'August 2019',\n",
       "  'DATE OF EXPIRY': 'November 2021'},\n",
       " '117': {'PRODUCT NAME': 'Soya Sauce',\n",
       "  'PRICE': 65,\n",
       "  'QUANTITY': 200,\n",
       "  'DATE OF MANUFACTURE': 'August 2019',\n",
       "  'DATE OF EXPIRY': 'November 2021'},\n",
       " '118': {'PRODUCT NAME': 'Red Chilli Sauce',\n",
       "  'PRICE': 65,\n",
       "  'QUANTITY': 200,\n",
       "  'DATE OF MANUFACTURE': 'August 2019',\n",
       "  'DATE OF EXPIRY': 'November 2021'},\n",
       " '119': {'PRODUCT NAME': 'Green chilli Sauce',\n",
       "  'PRICE': 65,\n",
       "  'QUANTITY': 200,\n",
       "  'DATE OF MANUFACTURE': 'August 2019',\n",
       "  'DATE OF EXPIRY': 'November 2021'},\n",
       " '120': {'PRODUCT NAME': 'Vinegar',\n",
       "  'PRICE': 125,\n",
       "  'QUANTITY': 200,\n",
       "  'DATE OF MANUFACTURE': 'June 2021',\n",
       "  'DATE OF EXPIRY': 'September 2022'},\n",
       " '121': {'PRODUCT NAME': 'Uncle Chips',\n",
       "  'PRICE': 15,\n",
       "  'QUANTITY': 300,\n",
       "  'DATE OF MANUFACTURE': 'January 2020',\n",
       "  'DATE OF EXPIRY': 'May 2021'},\n",
       " '122': {'PRODUCT NAME': 'Chicken Masala',\n",
       "  'PRICE': 55,\n",
       "  'QUANTITY': 300,\n",
       "  'DATE OF MANUFACTURE': 'March 2020',\n",
       "  'DATE OF EXPIRY': 'May 2021'},\n",
       " '123': {'PRODUCT NAME': 'Red Chilli Powder',\n",
       "  'PRICE': 80,\n",
       "  'QUANTITY': 300,\n",
       "  'DATE OF MANUFACTURE': 'March 2020',\n",
       "  'DATE OF EXPIRY': 'May 2021'},\n",
       " '124': {'PRODUCT NAME': 'Chana Masala',\n",
       "  'PRICE': 80,\n",
       "  'QUANTITY': 300,\n",
       "  'DATE OF MANUFACTURE': 'December 2020',\n",
       "  'DATE OF EXPIRY': 'December 2021'},\n",
       " '125': {'PRODUCT NAME': 'Jaggery Packet',\n",
       "  'PRICE': 70,\n",
       "  'QUANTITY': 400,\n",
       "  'DATE OF MANUFACTURE': 'January 2020',\n",
       "  'DATE OF EXPIRY': 'January 2021'},\n",
       " '126': {'PRODUCT NAME': 'Boiled Rice Packet',\n",
       "  'PRICE': 150,\n",
       "  'QUANTITY': 400,\n",
       "  'DATE OF MANUFACTURE': 'December 2020',\n",
       "  'DATE OF EXPIRY': 'December 2023'},\n",
       " '127': {'PRODUCT NAME': 'Instant rava idli',\n",
       "  'PRICE': 250,\n",
       "  'QUANTITY': 300,\n",
       "  'DATE OF MANUFACTURE': 'June 2021',\n",
       "  'DATE OF EXPIRY': 'March 2023'},\n",
       " '128': {'PRODUCT NAME': 'Cup Noodles',\n",
       "  'PRICE': 55,\n",
       "  'QUANTITY': 500,\n",
       "  'DATE OF MANUFACTURE': 'December 2020',\n",
       "  'DATE OF EXPIRY': 'December 2021'},\n",
       " '129': {'PRODUCT NAME': 'Khatta Meetha',\n",
       "  'PRICE': 85,\n",
       "  'QUANTITY': 350,\n",
       "  'DATE OF MANUFACTURE': 'September 2020',\n",
       "  'DATE OF EXPIRY': 'October 2022'},\n",
       " '130': {'PRODUCT NAME': 'Hajmola',\n",
       "  'PRICE': 40,\n",
       "  'QUANTITY': 150,\n",
       "  'DATE OF MANUFACTURE': 'April 2020',\n",
       "  'DATE OF EXPIRY': 'May 2021'},\n",
       " '131': {'PRODUCT NAME': 'Besan Packet',\n",
       "  'PRICE': 80,\n",
       "  'QUANTITY': 200,\n",
       "  'DATE OF MANUFACTURE': 'January 2020',\n",
       "  'DATE OF EXPIRY': 'February 2021'},\n",
       " '132': {'PRODUCT NAME': 'Bru Coffee',\n",
       "  'PRICE': 300,\n",
       "  'QUANTITY': 200,\n",
       "  'DATE OF MANUFACTURE': 'June 2020',\n",
       "  'DATE OF EXPIRY': 'December 2023'},\n",
       " '133': {'PRODUCT NAME': 'Cadbury dairy milk',\n",
       "  'PRICE': 90,\n",
       "  'QUANTITY': 400,\n",
       "  'DATE OF MANUFACTURE': 'December 2020',\n",
       "  'DATE OF EXPIRY': 'December 2021'},\n",
       " '134': {'PRODUCT NAME': 'Kitkat',\n",
       "  'PRICE': 45,\n",
       "  'QUANTITY': 400,\n",
       "  'DATE OF MANUFACTURE': 'December 2020',\n",
       "  'DATE OF EXPIRY': 'December 2021'},\n",
       " '135': {'PRODUCT NAME': 'Haldi Powder',\n",
       "  'PRICE': 80,\n",
       "  'QUANTITY': 400,\n",
       "  'DATE OF MANUFACTURE': 'July 2020',\n",
       "  'DATE OF EXPIRY': 'January 2023'},\n",
       " '136': {'PRODUCT NAME': 'Sugar Packet',\n",
       "  'PRICE': 125,\n",
       "  'QUANTITY': 230,\n",
       "  'DATE OF MANUFACTURE': 'August 2021',\n",
       "  'DATE OF EXPIRY': 'January 2023'},\n",
       " '137 ': {'PRODUCT NAME': 'Amul dark Chocolate',\n",
       "  'PRICE': 120,\n",
       "  'QUANTITY': 300,\n",
       "  'DATE OF MANUFACTURE': 'October 2020',\n",
       "  'DATE OF EXPIRY': 'December 2022'}}"
      ]
     },
     "execution_count": 48,
     "metadata": {},
     "output_type": "execute_result"
    }
   ],
   "source": [
    "data"
   ]
  },
  {
   "cell_type": "code",
   "execution_count": 49,
   "id": "objective-genre",
   "metadata": {},
   "outputs": [],
   "source": [
    "import time\n",
    "PURCHASED_ON = time.ctime()"
   ]
  },
  {
   "cell_type": "markdown",
   "id": "developmental-sussex",
   "metadata": {},
   "source": [
    "# BILLING SYSTEM OF PURCHASED PRODUCTS"
   ]
  },
  {
   "cell_type": "code",
   "execution_count": 51,
   "id": "quarterly-tiger",
   "metadata": {},
   "outputs": [
    {
     "name": "stdout",
     "output_type": "stream",
     "text": [
      "Enter the Product_Id of the grocery item to be purchased: 137 \n",
      "Enter the quantity of product: 12\n",
      "************************************************************************************************************************\n",
      "****************************************************YOUR BILL***********************************************************\n",
      "PURCHASED ON:  Mon Sep  6 02:58:18 2021\n",
      "PRODUCT NAME:  Amul dark Chocolate\n",
      "PRICE:  120\n",
      "TOTAL BILLING AMOUNT:  1440\n",
      "************************************************************************************************************************\n",
      "*********************************************THANK YOU FOR SHOPPING VISIT AGAIN*****************************************\n"
     ]
    }
   ],
   "source": [
    "PURCHASED_PRODUCT_Id  = str(input(\"Enter the Product_Id of the grocery item to be purchased: \"))\n",
    "PRODUCT_QUANTITY = int(input(\"Enter the quantity of product: \"))\n",
    "\n",
    "if(PRODUCT_QUANTITY > data[PURCHASED_PRODUCT_Id]['QUANTITY']):\n",
    "    print(\"Enter Valid Quantity under\", data[PURCHASED_PRODUCT_Id]['QUANTITY'])\n",
    "    PRODUCT_QUANTITY = int(input(\"Enter the quantity of product: \"))\n",
    "    \n",
    "    \n",
    "print(\"************************************************************************************************************************\")\n",
    "print(\"****************************************************YOUR BILL***********************************************************\")\n",
    "print(\"PURCHASED ON: \", PURCHASED_ON)\n",
    "print(\"PRODUCT NAME: \", data[PURCHASED_PRODUCT_Id]['PRODUCT NAME'])\n",
    "print(\"PRICE: \", data[PURCHASED_PRODUCT_Id]['PRICE'])\n",
    "print(\"TOTAL BILLING AMOUNT: \", data[PURCHASED_PRODUCT_Id]['PRICE'] * PRODUCT_QUANTITY)\n",
    "   \n",
    "data[PURCHASED_PRODUCT_Id]['QUANTITY'] = data[PURCHASED_PRODUCT_Id]['QUANTITY'] - PRODUCT_QUANTITY\n",
    "\n",
    "print(\"************************************************************************************************************************\")\n",
    "print(\"*********************************************THANK YOU FOR SHOPPING VISIT AGAIN*****************************************\")\n",
    "\n"
   ]
  },
  {
   "cell_type": "markdown",
   "id": "demographic-visibility",
   "metadata": {},
   "source": [
    "# UPDATING THE GroceryDatabase.json AFTER PURCHASE"
   ]
  },
  {
   "cell_type": "code",
   "execution_count": 52,
   "id": "cordless-craft",
   "metadata": {},
   "outputs": [],
   "source": [
    "js = json.dumps(data)\n",
    "\n",
    "fd = open(\"GroceryDatabase.json\",'w')\n",
    "fd.write(js)\n",
    "fd.close()"
   ]
  },
  {
   "cell_type": "markdown",
   "id": "comic-organ",
   "metadata": {},
   "source": [
    "# CREATING GrocerySales.json AND STORING SOLD ITEMS"
   ]
  },
  {
   "cell_type": "code",
   "execution_count": 53,
   "id": "immediate-print",
   "metadata": {},
   "outputs": [],
   "source": [
    "SALES = {'PRODUCT ID' : PURCHASED_PRODUCT_Id, 'PRODUCT NAME' : data[PURCHASED_PRODUCT_Id]['PRODUCT NAME'], 'QUANTITY' : PRODUCT_QUANTITY, 'AMOUNT PAID': data[PURCHASED_PRODUCT_Id]['PRICE'] * PRODUCT_QUANTITY, 'DATE OF MANUFACTURE' : data[PURCHASED_PRODUCT_Id]['DATE OF MANUFACTURE'], 'DATE OF EXPIRY' : data[PURCHASED_PRODUCT_Id]['DATE OF EXPIRY'], 'SOLD ON': PURCHASED_ON}"
   ]
  },
  {
   "cell_type": "code",
   "execution_count": 54,
   "id": "prime-involvement",
   "metadata": {},
   "outputs": [
    {
     "data": {
      "text/plain": [
       "{'PRODUCT ID': '137 ',\n",
       " 'PRODUCT NAME': 'Amul dark Chocolate',\n",
       " 'QUANTITY': 12,\n",
       " 'AMOUNT PAID': 1440,\n",
       " 'DATE OF MANUFACTURE': 'October 2020',\n",
       " 'DATE OF EXPIRY': 'December 2022',\n",
       " 'SOLD ON': 'Mon Sep  6 02:58:18 2021'}"
      ]
     },
     "execution_count": 54,
     "metadata": {},
     "output_type": "execute_result"
    }
   ],
   "source": [
    "SALES"
   ]
  },
  {
   "cell_type": "code",
   "execution_count": 55,
   "id": "preliminary-circus",
   "metadata": {},
   "outputs": [],
   "source": [
    "GrocerySales = json.dumps(SALES)"
   ]
  },
  {
   "cell_type": "code",
   "execution_count": 56,
   "id": "quarterly-registration",
   "metadata": {},
   "outputs": [
    {
     "data": {
      "text/plain": [
       "'{\"PRODUCT ID\": \"137 \", \"PRODUCT NAME\": \"Amul dark Chocolate\", \"QUANTITY\": 12, \"AMOUNT PAID\": 1440, \"DATE OF MANUFACTURE\": \"October 2020\", \"DATE OF EXPIRY\": \"December 2022\", \"SOLD ON\": \"Mon Sep  6 02:58:18 2021\"}'"
      ]
     },
     "execution_count": 56,
     "metadata": {},
     "output_type": "execute_result"
    }
   ],
   "source": [
    "GrocerySales"
   ]
  },
  {
   "cell_type": "code",
   "execution_count": 57,
   "id": "approved-detroit",
   "metadata": {},
   "outputs": [],
   "source": [
    "fd = open(\"GrocerySales.json\",'w') # Creating GrocerySales.json file\n",
    "\n",
    "fd.write(GrocerySales)\n",
    "\n",
    "fd.close()"
   ]
  },
  {
   "cell_type": "code",
   "execution_count": 58,
   "id": "growing-recommendation",
   "metadata": {},
   "outputs": [],
   "source": [
    "fd = open(\"GrocerySales.json\",'r') # Reading GrocerySales.json file\n",
    "r = fd.read()\n",
    "fd.close()"
   ]
  },
  {
   "cell_type": "code",
   "execution_count": 59,
   "id": "loose-canyon",
   "metadata": {},
   "outputs": [
    {
     "data": {
      "text/plain": [
       "'{\"PRODUCT ID\": \"137 \", \"PRODUCT NAME\": \"Amul dark Chocolate\", \"QUANTITY\": 12, \"AMOUNT PAID\": 1440, \"DATE OF MANUFACTURE\": \"October 2020\", \"DATE OF EXPIRY\": \"December 2022\", \"SOLD ON\": \"Mon Sep  6 02:58:18 2021\"}'"
      ]
     },
     "execution_count": 59,
     "metadata": {},
     "output_type": "execute_result"
    }
   ],
   "source": [
    "r"
   ]
  }
 ],
 "metadata": {
  "kernelspec": {
   "display_name": "Python 3",
   "language": "python",
   "name": "python3"
  },
  "language_info": {
   "codemirror_mode": {
    "name": "ipython",
    "version": 3
   },
   "file_extension": ".py",
   "mimetype": "text/x-python",
   "name": "python",
   "nbconvert_exporter": "python",
   "pygments_lexer": "ipython3",
   "version": "3.8.6rc1"
  }
 },
 "nbformat": 4,
 "nbformat_minor": 5
}
