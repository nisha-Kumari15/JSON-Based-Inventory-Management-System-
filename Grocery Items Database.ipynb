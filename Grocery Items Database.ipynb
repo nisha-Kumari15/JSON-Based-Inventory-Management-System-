{
 "cells": [
  {
   "cell_type": "markdown",
   "id": "functioning-discrimination",
   "metadata": {},
   "source": [
    "# CREATING A DATABASE OF GROCERY ITEMS"
   ]
  },
  {
   "cell_type": "code",
   "execution_count": 1,
   "id": "everyday-attack",
   "metadata": {},
   "outputs": [],
   "source": [
    "database = { 101 : {\"PRODUCT NAME\": \"Good Day Choco Cookies\" , \"PRICE\":25, \"QUANTITY\" : 100, \"DATE OF MANUFACTURE\" : \"December 2020\", \"DATE OF EXPIRY\" : \"December 2021\"},\n",
    "           102 : {\"PRODUCT NAME\": \"Haldiram Aloo Bhujia\" , \"PRICE\": 100, \"QUANTITY\" : 100, \"DATE OF MANUFACTURE\" :\"January 2021\", \"DATE OF EXPIRY\" :\"August 2022\"},\n",
    "           103 : {\"PRODUCT NAME\": \"Haldiram Sev Bhujia\" , \"PRICE\": 100, \"QUANTITY\" : 100, \"DATE OF MANUFACTURE\" :\"January 2021\", \"DATE OF EXPIRY\" :\"August 2022\"},\n",
    "           104 : {\"PRODUCT NAME\": \"Bournborn\" , \"PRICE\": 30, \"QUANTITY\" : 200, \"DATE OF MANUFACTURE\" :\"August 2019\", \"DATE OF EXPIRY\" :\"December 2021\"},\n",
    "           105 : {\"PRODUCT NAME\": \"Dark Fantasy\" , \"PRICE\": 50, \"QUANTITY\" : 120, \"DATE OF MANUFACTURE\" :\"December 2020\", \"DATE OF EXPIRY\" :\"December 2021\"},\n",
    "           106 : {\"PRODUCT NAME\": \"Maggie\" , \"PRICE\": 24, \"QUANTITY\" : 300, \"DATE OF MANUFACTURE\" : \"August 2019\", \"DATE OF EXPIRY\" : \"December 2021\"},\n",
    "           107 : {\"PRODUCT NAME\": \"Hakka Noodles\" , \"PRICE\": 50, \"QUANTITY\" : 300, \"DATE OF MANUFACTURE\" : \"January 2021\", \"DATE OF EXPIRY\" :\"September 2022\"},\n",
    "           108 : {\"PRODUCT NAME\": \"Parle G\" , \"PRICE\": 10, \"QUANTITY\" : 500, \"DATE OF MANUFACTURE\" :\"May 2019\", \"DATE OF EXPIRY\" :\"May 2022\"},\n",
    "           109 : {\"PRODUCT NAME\": \"Black Salt Packet\" , \"PRICE\": 25, \"QUANTITY\" : 240 , \"DATE OF MANUFACTURE\" :\"February 2021\", \"DATE OF EXPIRY\" :\"December 2023\"},\n",
    "           110 : {\"PRODUCT NAME\": \"Kurkure\" , \"PRICE\": 20, \"QUANTITY\" : 400, \"DATE OF MANUFACTURE\" :\"July 2019\", \"DATE OF EXPIRY\" :\"November 2021\"},\n",
    "           111 : {\"PRODUCT NAME\": \"Haldiram Papad\" , \"PRICE\": 25, \"QUANTITY\" : 300, \"DATE OF MANUFACTURE\" :\"October 2020\", \"DATE OF EXPIRY\" :\"May 2023\"},\n",
    "           112 : {\"PRODUCT NAME\": \"Manchow Chinese Soup\" , \"PRICE\": 40, \"QUANTITY\" : 150, \"DATE OF MANUFACTURE\" :\"February 2020\", \"DATE OF EXPIRY\" :\"November 2022\"},\n",
    "           113 : {\"PRODUCT NAME\": \"Tomato Soup\" , \"PRICE\": 40, \"QUANTITY\" : 150, \"DATE OF MANUFACTURE\" :\"June 2020\", \"DATE OF EXPIRY\" :\"October 2022\"},\n",
    "           114 : {\"PRODUCT NAME\": \"Tata Salt Packet\" , \"PRICE\": 20, \"QUANTITY\" : 240, \"DATE OF MANUFACTURE\" :\"March 2019\", \"DATE OF EXPIRY\" :\"October 2022\"},\n",
    "           115 : {\"PRODUCT NAME\": \"Everyday Milk Powder\" , \"PRICE\": 60, \"QUANTITY\" : 100, \"DATE OF MANUFACTURE\" :\"December 2020\", \"DATE OF EXPIRY\" :\"December 2021\"},\n",
    "           116 : {\"PRODUCT NAME\": \"Kissan Tomato Sauce\" , \"PRICE\": 75, \"QUANTITY\" : 200, \"DATE OF MANUFACTURE\" :\"August 2019\", \"DATE OF EXPIRY\" :\"November 2021\"},\n",
    "           117 : {\"PRODUCT NAME\": \"Soya Sauce\" , \"PRICE\": 65, \"QUANTITY\" : 200, \"DATE OF MANUFACTURE\": \"August 2019\", \"DATE OF EXPIRY\" :\"November 2021\"},\n",
    "           118 : {\"PRODUCT NAME\": \"Red Chilli Sauce\" , \"PRICE\": 65, \"QUANTITY\" : 200, \"DATE OF MANUFACTURE\" :\"August 2019\", \"DATE OF EXPIRY\" :\"November 2021\"},\n",
    "           119 : {\"PRODUCT NAME\": \"Green chilli Sauce\" , \"PRICE\": 65, \"QUANTITY\" : 200, \"DATE OF MANUFACTURE\" :\"August 2019\", \"DATE OF EXPIRY\" :\"November 2021\"},\n",
    "           120 : {\"PRODUCT NAME\": \"Vinegar\" , \"PRICE\": 125, \"QUANTITY\" : 200, \"DATE OF MANUFACTURE\" :\"June 2021\", \"DATE OF EXPIRY\" :\"September 2022\"},\n",
    "           121 : {\"PRODUCT NAME\": \"Uncle Chips\" , \"PRICE\": 15, \"QUANTITY\" : 300, \"DATE OF MANUFACTURE\" :\"January 2020\", \"DATE OF EXPIRY\" :\"May 2021\"},\n",
    "           122 : {\"PRODUCT NAME\": \"Chicken Masala\" , \"PRICE\": 55, \"QUANTITY\" : 300, \"DATE OF MANUFACTURE\" :\"March 2020\", \"DATE OF EXPIRY\" :\"May 2021\"},\n",
    "           123 : {\"PRODUCT NAME\": \"Red Chilli Powder\" , \"PRICE\": 80, \"QUANTITY\" : 300, \"DATE OF MANUFACTURE\" :\"March 2020\", \"DATE OF EXPIRY\" :\"May 2021\"},\n",
    "           124 : {\"PRODUCT NAME\": \"Chana Masala\" , \"PRICE\": 80, \"QUANTITY\" : 300, \"DATE OF MANUFACTURE\" :\"December 2020\", \"DATE OF EXPIRY\" :\"December 2021\"},\n",
    "           125 : {\"PRODUCT NAME\": \"Jaggery Packet\" , \"PRICE\": 70, \"QUANTITY\" : 400, \"DATE OF MANUFACTURE\" :\"January 2020\", \"DATE OF EXPIRY\" :\"January 2021\"},\n",
    "           126 : {\"PRODUCT NAME\": \"Boiled Rice Packet\" , \"PRICE\": 150 , \"QUANTITY\" : 400, \"DATE OF MANUFACTURE\" :\"December 2020\", \"DATE OF EXPIRY\" :\"December 2023\"},\n",
    "           127 : {\"PRODUCT NAME\": \"Instant rava idli\" , \"PRICE\": 250, \"QUANTITY\" : 300, \"DATE OF MANUFACTURE\" :\"June 2021\", \"DATE OF EXPIRY\" :\"March 2023\"},\n",
    "           128 : {\"PRODUCT NAME\": \"Cup Noodles\" , \"PRICE\": 55, \"QUANTITY\" : 500, \"DATE OF MANUFACTURE\" :\"December 2020\", \"DATE OF EXPIRY\" :\"December 2021\"},\n",
    "           129 : {\"PRODUCT NAME\": \"Khatta Meetha\" , \"PRICE\": 85, \"QUANTITY\" : 350, \"DATE OF MANUFACTURE\" : \"September 2020\", \"DATE OF EXPIRY\" :\"October 2022\"},\n",
    "           130 : {\"PRODUCT NAME\": \"Hajmola\" , \"PRICE\": 40, \"QUANTITY\" : 150, \"DATE OF MANUFACTURE\" :\"April 2020\", \"DATE OF EXPIRY\" :\"May 2021\"},\n",
    "           131 : {\"PRODUCT NAME\": \"Besan Packet\" , \"PRICE\": 80, \"QUANTITY\" : 200, \"DATE OF MANUFACTURE\" :\"January 2020\", \"DATE OF EXPIRY\" :\"February 2021\"},\n",
    "           132 : {\"PRODUCT NAME\": \"Bru Coffee\" , \"PRICE\": 300, \"QUANTITY\" : 200, \"DATE OF MANUFACTURE\" :\"June 2020\", \"DATE OF EXPIRY\" :\"December 2023\"},\n",
    "           133 : {\"PRODUCT NAME\": \"Cadbury dairy milk\" , \"PRICE\": 90, \"QUANTITY\" : 400, \"DATE OF MANUFACTURE\" :\"December 2020\", \"DATE OF EXPIRY\" : \"December 2021\"},\n",
    "           134 : {\"PRODUCT NAME\": \"Kitkat\" , \"PRICE\": 45, \"QUANTITY\" : 400, \"DATE OF MANUFACTURE\" : \"December 2020\", \"DATE OF EXPIRY\" :\"December 2021\"},\n",
    "           135 : {\"PRODUCT NAME\": \"Haldi Powder\" , \"PRICE\": 80, \"QUANTITY\" : 400, \"DATE OF MANUFACTURE\" : \"July 2020\", \"DATE OF EXPIRY\" :\"January 2023\"},}"
   ]
  },
  {
   "cell_type": "markdown",
   "id": "governmental-medium",
   "metadata": {},
   "source": [
    "### IMPORTING JSON"
   ]
  },
  {
   "cell_type": "code",
   "execution_count": 2,
   "id": "timely-sweden",
   "metadata": {},
   "outputs": [
    {
     "data": {
      "text/plain": [
       "'{\"101\": {\"PRODUCT NAME\": \"Good Day Choco Cookies\", \"PRICE\": 25, \"QUANTITY\": 100, \"DATE OF MANUFACTURE\": \"December 2020\", \"DATE OF EXPIRY\": \"December 2021\"}, \"102\": {\"PRODUCT NAME\": \"Haldiram Aloo Bhujia\", \"PRICE\": 100, \"QUANTITY\": 100, \"DATE OF MANUFACTURE\": \"January 2021\", \"DATE OF EXPIRY\": \"August 2022\"}, \"103\": {\"PRODUCT NAME\": \"Haldiram Sev Bhujia\", \"PRICE\": 100, \"QUANTITY\": 100, \"DATE OF MANUFACTURE\": \"January 2021\", \"DATE OF EXPIRY\": \"August 2022\"}, \"104\": {\"PRODUCT NAME\": \"Bournborn\", \"PRICE\": 30, \"QUANTITY\": 200, \"DATE OF MANUFACTURE\": \"August 2019\", \"DATE OF EXPIRY\": \"December 2021\"}, \"105\": {\"PRODUCT NAME\": \"Dark Fantasy\", \"PRICE\": 50, \"QUANTITY\": 120, \"DATE OF MANUFACTURE\": \"December 2020\", \"DATE OF EXPIRY\": \"December 2021\"}, \"106\": {\"PRODUCT NAME\": \"Maggie\", \"PRICE\": 24, \"QUANTITY\": 300, \"DATE OF MANUFACTURE\": \"August 2019\", \"DATE OF EXPIRY\": \"December 2021\"}, \"107\": {\"PRODUCT NAME\": \"Hakka Noodles\", \"PRICE\": 50, \"QUANTITY\": 300, \"DATE OF MANUFACTURE\": \"January 2021\", \"DATE OF EXPIRY\": \"September 2022\"}, \"108\": {\"PRODUCT NAME\": \"Parle G\", \"PRICE\": 10, \"QUANTITY\": 500, \"DATE OF MANUFACTURE\": \"May 2019\", \"DATE OF EXPIRY\": \"May 2022\"}, \"109\": {\"PRODUCT NAME\": \"Black Salt Packet\", \"PRICE\": 25, \"QUANTITY\": 240, \"DATE OF MANUFACTURE\": \"February 2021\", \"DATE OF EXPIRY\": \"December 2023\"}, \"110\": {\"PRODUCT NAME\": \"Kurkure\", \"PRICE\": 20, \"QUANTITY\": 400, \"DATE OF MANUFACTURE\": \"July 2019\", \"DATE OF EXPIRY\": \"November 2021\"}, \"111\": {\"PRODUCT NAME\": \"Haldiram Papad\", \"PRICE\": 25, \"QUANTITY\": 300, \"DATE OF MANUFACTURE\": \"October 2020\", \"DATE OF EXPIRY\": \"May 2023\"}, \"112\": {\"PRODUCT NAME\": \"Manchow Chinese Soup\", \"PRICE\": 40, \"QUANTITY\": 150, \"DATE OF MANUFACTURE\": \"February 2020\", \"DATE OF EXPIRY\": \"November 2022\"}, \"113\": {\"PRODUCT NAME\": \"Tomato Soup\", \"PRICE\": 40, \"QUANTITY\": 150, \"DATE OF MANUFACTURE\": \"June 2020\", \"DATE OF EXPIRY\": \"October 2022\"}, \"114\": {\"PRODUCT NAME\": \"Tata Salt Packet\", \"PRICE\": 20, \"QUANTITY\": 240, \"DATE OF MANUFACTURE\": \"March 2019\", \"DATE OF EXPIRY\": \"October 2022\"}, \"115\": {\"PRODUCT NAME\": \"Everyday Milk Powder\", \"PRICE\": 60, \"QUANTITY\": 100, \"DATE OF MANUFACTURE\": \"December 2020\", \"DATE OF EXPIRY\": \"December 2021\"}, \"116\": {\"PRODUCT NAME\": \"Kissan Tomato Sauce\", \"PRICE\": 75, \"QUANTITY\": 200, \"DATE OF MANUFACTURE\": \"August 2019\", \"DATE OF EXPIRY\": \"November 2021\"}, \"117\": {\"PRODUCT NAME\": \"Soya Sauce\", \"PRICE\": 65, \"QUANTITY\": 200, \"DATE OF MANUFACTURE\": \"August 2019\", \"DATE OF EXPIRY\": \"November 2021\"}, \"118\": {\"PRODUCT NAME\": \"Red Chilli Sauce\", \"PRICE\": 65, \"QUANTITY\": 200, \"DATE OF MANUFACTURE\": \"August 2019\", \"DATE OF EXPIRY\": \"November 2021\"}, \"119\": {\"PRODUCT NAME\": \"Green chilli Sauce\", \"PRICE\": 65, \"QUANTITY\": 200, \"DATE OF MANUFACTURE\": \"August 2019\", \"DATE OF EXPIRY\": \"November 2021\"}, \"120\": {\"PRODUCT NAME\": \"Vinegar\", \"PRICE\": 125, \"QUANTITY\": 200, \"DATE OF MANUFACTURE\": \"June 2021\", \"DATE OF EXPIRY\": \"September 2022\"}, \"121\": {\"PRODUCT NAME\": \"Uncle Chips\", \"PRICE\": 15, \"QUANTITY\": 300, \"DATE OF MANUFACTURE\": \"January 2020\", \"DATE OF EXPIRY\": \"May 2021\"}, \"122\": {\"PRODUCT NAME\": \"Chicken Masala\", \"PRICE\": 55, \"QUANTITY\": 300, \"DATE OF MANUFACTURE\": \"March 2020\", \"DATE OF EXPIRY\": \"May 2021\"}, \"123\": {\"PRODUCT NAME\": \"Red Chilli Powder\", \"PRICE\": 80, \"QUANTITY\": 300, \"DATE OF MANUFACTURE\": \"March 2020\", \"DATE OF EXPIRY\": \"May 2021\"}, \"124\": {\"PRODUCT NAME\": \"Chana Masala\", \"PRICE\": 80, \"QUANTITY\": 300, \"DATE OF MANUFACTURE\": \"December 2020\", \"DATE OF EXPIRY\": \"December 2021\"}, \"125\": {\"PRODUCT NAME\": \"Jaggery Packet\", \"PRICE\": 70, \"QUANTITY\": 400, \"DATE OF MANUFACTURE\": \"January 2020\", \"DATE OF EXPIRY\": \"January 2021\"}, \"126\": {\"PRODUCT NAME\": \"Boiled Rice Packet\", \"PRICE\": 150, \"QUANTITY\": 400, \"DATE OF MANUFACTURE\": \"December 2020\", \"DATE OF EXPIRY\": \"December 2023\"}, \"127\": {\"PRODUCT NAME\": \"Instant rava idli\", \"PRICE\": 250, \"QUANTITY\": 300, \"DATE OF MANUFACTURE\": \"June 2021\", \"DATE OF EXPIRY\": \"March 2023\"}, \"128\": {\"PRODUCT NAME\": \"Cup Noodles\", \"PRICE\": 55, \"QUANTITY\": 500, \"DATE OF MANUFACTURE\": \"December 2020\", \"DATE OF EXPIRY\": \"December 2021\"}, \"129\": {\"PRODUCT NAME\": \"Khatta Meetha\", \"PRICE\": 85, \"QUANTITY\": 350, \"DATE OF MANUFACTURE\": \"September 2020\", \"DATE OF EXPIRY\": \"October 2022\"}, \"130\": {\"PRODUCT NAME\": \"Hajmola\", \"PRICE\": 40, \"QUANTITY\": 150, \"DATE OF MANUFACTURE\": \"April 2020\", \"DATE OF EXPIRY\": \"May 2021\"}, \"131\": {\"PRODUCT NAME\": \"Besan Packet\", \"PRICE\": 80, \"QUANTITY\": 200, \"DATE OF MANUFACTURE\": \"January 2020\", \"DATE OF EXPIRY\": \"February 2021\"}, \"132\": {\"PRODUCT NAME\": \"Bru Coffee\", \"PRICE\": 300, \"QUANTITY\": 200, \"DATE OF MANUFACTURE\": \"June 2020\", \"DATE OF EXPIRY\": \"December 2023\"}, \"133\": {\"PRODUCT NAME\": \"Cadbury dairy milk\", \"PRICE\": 90, \"QUANTITY\": 400, \"DATE OF MANUFACTURE\": \"December 2020\", \"DATE OF EXPIRY\": \"December 2021\"}, \"134\": {\"PRODUCT NAME\": \"Kitkat\", \"PRICE\": 45, \"QUANTITY\": 400, \"DATE OF MANUFACTURE\": \"December 2020\", \"DATE OF EXPIRY\": \"December 2021\"}, \"135\": {\"PRODUCT NAME\": \"Haldi Powder\", \"PRICE\": 80, \"QUANTITY\": 400, \"DATE OF MANUFACTURE\": \"July 2020\", \"DATE OF EXPIRY\": \"January 2023\"}}'"
      ]
     },
     "execution_count": 2,
     "metadata": {},
     "output_type": "execute_result"
    }
   ],
   "source": [
    "import json\n",
    "js = json.dumps(database)\n",
    "js"
   ]
  },
  {
   "cell_type": "markdown",
   "id": "weekly-romania",
   "metadata": {},
   "source": [
    "### CREATING GroceryDatabase.json FILE"
   ]
  },
  {
   "cell_type": "code",
   "execution_count": 3,
   "id": "public-boston",
   "metadata": {},
   "outputs": [],
   "source": [
    "fd = open(\"GroceryDatabase.json\",'w')\n",
    "\n",
    "fd.write(js)\n",
    "\n",
    "fd.close()"
   ]
  }
 ],
 "metadata": {
  "kernelspec": {
   "display_name": "Python 3",
   "language": "python",
   "name": "python3"
  },
  "language_info": {
   "codemirror_mode": {
    "name": "ipython",
    "version": 3
   },
   "file_extension": ".py",
   "mimetype": "text/x-python",
   "name": "python",
   "nbconvert_exporter": "python",
   "pygments_lexer": "ipython3",
   "version": "3.8.6rc1"
  }
 },
 "nbformat": 4,
 "nbformat_minor": 5
}
